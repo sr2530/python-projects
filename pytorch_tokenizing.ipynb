{
 "cells": [
  {
   "cell_type": "code",
   "execution_count": 1,
   "metadata": {},
   "outputs": [
    {
     "name": "stderr",
     "output_type": "stream",
     "text": [
      "c:\\Users\\danie\\anaconda3\\Lib\\site-packages\\transformers\\utils\\generic.py:485: UserWarning: torch.utils._pytree._register_pytree_node is deprecated. Please use torch.utils._pytree.register_pytree_node instead.\n",
      "  _torch_pytree._register_pytree_node(\n"
     ]
    },
    {
     "name": "stdout",
     "output_type": "stream",
     "text": [
      "24784\n"
     ]
    }
   ],
   "source": [
    "import json\n",
    "import torch\n",
    "from torchvision.datasets import CocoCaptions\n",
    "from torchtext.vocab import build_vocab_from_iterator\n",
    "from torchtext.data.utils import get_tokenizer\n",
    "\n",
    "def training_tokenization_vocab_build(train_file_name, train_save_file_name):\n",
    "    with open(train_file_name, 'r') as f:\n",
    "        all_captions = json.load(f)\n",
    "\n",
    "    tokenizer = get_tokenizer('basic_english')\n",
    "    encoded_captions = []\n",
    "    for caption in all_captions.keys():\n",
    "        encoded_captions.append(tokenizer(caption.lower()))\n",
    "    \n",
    "    # Used to find max_length; after finding, hard code it in\n",
    "    # max_length = 0\n",
    "    # for tokenized in encoded_captions:\n",
    "    #     if len(tokenized) > max_length:\n",
    "    #         max_length = len(tokenized)\n",
    "    \n",
    "    max_length = 57\n",
    "\n",
    "    vocab = build_vocab_from_iterator(encoded_captions, specials=['<unk>', '<pad>', '<start>', '<end>'])\n",
    "    vocab.set_default_index(vocab['<unk>'])\n",
    "    print(len(vocab))\n",
    "    tokenized = [torch.tensor([vocab['<start>']] + [vocab[token] for token in caption] + [vocab['<end>']] + [vocab['<pad>'] for _ in range(max_length - len(caption))]) for caption in encoded_captions]\n",
    "    torch.save(tokenized, train_save_file_name)\n",
    "    return vocab\n",
    "\n",
    "def tokenize(file_name, save_name, max_length, vocab):\n",
    "    with open(file_name, 'r') as f:\n",
    "        all_captions = json.load(f)\n",
    "    \n",
    "    tokenizer = get_tokenizer('basic_english')\n",
    "    encoded_captions = []\n",
    "    for caption in all_captions.keys():\n",
    "        encoded_captions.append(tokenizer(caption.lower()))\n",
    "\n",
    "    tokenized = [torch.tensor([vocab['<start>']] + [vocab[token] for token in caption] + [vocab['<end>']] + [vocab['<pad>'] for _ in range(max_length - len(caption))]) for caption in encoded_captions]\n",
    "\n",
    "    torch.save(tokenized, save_name)\n",
    "\n",
    "vocab = training_tokenization_vocab_build('./train_caption2filename.json','train_tokenized_captions.pt')\n",
    "tokenize('./val_caption2filename.json', 'val_tokenized_captions.pt', 57, vocab)     # Max length: 56\n",
    "tokenize('./test_caption2filename.json', 'test_tokenized_captions.pt', 57, vocab)   # Max length: 54\n",
    "\n",
    "# max_length is 57 for COCO, but only for the text. We have to add on start and end tokens, so \n",
    "# the max_length to use when designing a neural network is max_length + 2 when looking \n",
    "# at the text input tensor"
   ]
  }
 ],
 "metadata": {
  "kernelspec": {
   "display_name": "new_env",
   "language": "python",
   "name": "python3"
  },
  "language_info": {
   "codemirror_mode": {
    "name": "ipython",
    "version": 3
   },
   "file_extension": ".py",
   "mimetype": "text/x-python",
   "name": "python",
   "nbconvert_exporter": "python",
   "pygments_lexer": "ipython3",
   "version": "3.11.5"
  }
 },
 "nbformat": 4,
 "nbformat_minor": 2
}
